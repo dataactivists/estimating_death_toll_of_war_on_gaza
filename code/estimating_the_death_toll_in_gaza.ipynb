{
 "cells": [
  {
   "cell_type": "markdown",
   "id": "16b16a81-821b-4060-83ea-8e07363e6402",
   "metadata": {},
   "source": [
    "# Estimating the death toll in Gaza"
   ]
  },
  {
   "cell_type": "code",
   "execution_count": null,
   "id": "77c7f8a3-02f0-4028-abb0-6279b48dc81c",
   "metadata": {},
   "outputs": [],
   "source": [
    "import altair as alt\n",
    "import pandas as pd"
   ]
  },
  {
   "cell_type": "markdown",
   "id": "36681b7d-96d5-4abb-bae1-679d83b9cbde",
   "metadata": {},
   "source": [
    "## Official counts"
   ]
  },
  {
   "cell_type": "code",
   "execution_count": null,
   "id": "c997ef4e-2a7d-4056-bc12-105e63316d50",
   "metadata": {},
   "outputs": [],
   "source": [
    "# from https://data.techforpalestine.org/\n",
    "df_official = pd.read_csv('../data/casualties_daily.csv')"
   ]
  },
  {
   "cell_type": "code",
   "execution_count": null,
   "id": "b9788052-b14a-48d6-9a19-12b10e1d1310",
   "metadata": {
    "editable": true,
    "slideshow": {
     "slide_type": ""
    },
    "tags": []
   },
   "outputs": [],
   "source": [
    "df_official"
   ]
  },
  {
   "cell_type": "code",
   "execution_count": null,
   "id": "2e7d1ec0-bb5f-4c4c-8c3c-5e8c0dc53939",
   "metadata": {},
   "outputs": [],
   "source": [
    "# drop unnecessary columns\n",
    "df_official = df_official[['report_date', 'killed_cum']]"
   ]
  },
  {
   "cell_type": "code",
   "execution_count": null,
   "id": "f9a7cee1-28b2-4b5a-a83b-0c0d4adc3365",
   "metadata": {},
   "outputs": [],
   "source": [
    "df_official.info()"
   ]
  },
  {
   "cell_type": "code",
   "execution_count": null,
   "id": "a0de3954-7424-4838-80e4-f5e78b4b98e1",
   "metadata": {},
   "outputs": [],
   "source": [
    "# convert to the right dtypes\n",
    "df_official = df_official.convert_dtypes()\n",
    "df_official['report_date'] = pd.to_datetime(df_official['report_date'])\n",
    "\n",
    "df_official.info()"
   ]
  },
  {
   "cell_type": "markdown",
   "id": "63b3eea6-a579-43ee-b6a6-e7ad4e7bc9dd",
   "metadata": {},
   "source": [
    "## Estimates"
   ]
  },
  {
   "cell_type": "code",
   "execution_count": null,
   "id": "b8dde238-3340-4006-95be-478097aedcf1",
   "metadata": {},
   "outputs": [],
   "source": [
    "# from data.techforpalestine.org\n",
    "feb_6_official = 27958\n",
    "\n",
    "# from https://aoav.org.uk/wp-content/uploads/2024/02/gaza_projections_report.pdf\n",
    "aoav_base_projection = 58260\n",
    "# inclusion of epidemic scenario based on https://www.gazahealthcareletters.org/usa-letter-oct-2-2024\n",
    "aoav_base_epidemic_projection = 66720\n",
    "\n",
    "aoav_base_estimate = feb_6_official + aoav_base_projection\n",
    "aoav_high_estimate = feb_6_official + aoav_base_epidemic_projection"
   ]
  },
  {
   "cell_type": "code",
   "execution_count": null,
   "id": "ef707f25-7d02-4a77-82cb-ae9b17fb759e",
   "metadata": {},
   "outputs": [],
   "source": [
    "# independent estimates from different sources\n",
    "estimates = [\n",
    "    {\n",
    "        'date': '2024/06/19',\n",
    "        'estimate': 186980,\n",
    "        'label': 'The Lancet',\n",
    "        'url': 'https://www.thelancet.com/action/showPdf?pii=S0140-6736%2824%2901169-3',\n",
    "        'title': 'Counting the dead in Gaza: difficult but essential',\n",
    "    },\n",
    "    {\n",
    "        'date': '2024/12/31',\n",
    "        'estimate': 335500,\n",
    "        'label': 'D. Sridhar/F. Albanese',\n",
    "        'url': 'https://www.theguardian.com/commentisfree/article/2024/sep/05/scientists-death-disease-gaza-polio-vaccinations-israel',\n",
    "        'title': 'Scientists are closing in on the true, horrifying scale of death and disease in Gaza',\n",
    "    },\n",
    "    {\n",
    "        'date': '2024/08/06',\n",
    "        'estimate': aoav_base_estimate,\n",
    "        'label': '',\n",
    "        'url': 'https://aoav.org.uk/wp-content/uploads/2024/02/gaza_projections_report.pdf',\n",
    "        'title': 'Crisis in Gaza: Scenario-based Health Impact Projections, Report One: 7 February to 6 August 2024',\n",
    "    },\n",
    "    {\n",
    "        'date': '2024/08/06',\n",
    "        'estimate': aoav_high_estimate,\n",
    "        'label': 'Crisis in Gaza',\n",
    "        'url': 'https://aoav.org.uk/wp-content/uploads/2024/02/gaza_projections_report.pdf',\n",
    "        'title': 'Crisis in Gaza: Scenario-based Health Impact Projections, Report One: 7 February to 6 August 2024',\n",
    "    },\n",
    "    {\n",
    "        'date': '2024/10/02',\n",
    "        'estimate': 118908,\n",
    "        'label': 'Gaza Healthcare Letters (USA)',\n",
    "        'url': 'https://www.gazahealthcareletters.org/usa-letter-oct-2-2024',\n",
    "        'title': 'USA Letter | October 2 — Gaza Healthcare Letters',\n",
    "    },\n",
    "]"
   ]
  },
  {
   "cell_type": "code",
   "execution_count": null,
   "id": "8cfef3e5-70e8-4c36-a727-fd0eeeeadce1",
   "metadata": {},
   "outputs": [],
   "source": [
    "df_estimates = pd.DataFrame.from_records(estimates)\n",
    "df_estimates = df_estimates.sort_values('date')"
   ]
  },
  {
   "cell_type": "code",
   "execution_count": null,
   "id": "c6602f8d-1537-4fae-bf3b-b3cfb32ed689",
   "metadata": {},
   "outputs": [],
   "source": [
    "df_estimates.info()"
   ]
  },
  {
   "cell_type": "code",
   "execution_count": null,
   "id": "abd19931-26b9-4307-8e6c-0b264035df5a",
   "metadata": {},
   "outputs": [],
   "source": [
    "# convert to the right dtypes\n",
    "df_estimates = df_estimates.convert_dtypes()\n",
    "df_estimates['date'] = pd.to_datetime(df_estimates['date'])\n",
    "\n",
    "df_estimates.info()"
   ]
  },
  {
   "cell_type": "code",
   "execution_count": null,
   "id": "feeba277-b0c8-4763-b0ed-b4ce8c4a2d68",
   "metadata": {},
   "outputs": [],
   "source": [
    "df_estimates"
   ]
  },
  {
   "cell_type": "code",
   "execution_count": null,
   "id": "56489c9f-8116-4f51-899a-b0abc9bd5b4d",
   "metadata": {},
   "outputs": [],
   "source": [
    "# add first 30 days of official data to anchor trendline at 0\n",
    "df_estimates_weighted = df_estimates.merge(\n",
    "    df_official.loc[\n",
    "        :30, ['report_date', 'killed_cum']\n",
    "    ].rename(\n",
    "        columns={'report_date': 'date', 'killed_cum': 'estimate'}\n",
    "    ),\n",
    "    how='outer',\n",
    ").fillna('')\n",
    "\n",
    "df_estimates_weighted"
   ]
  },
  {
   "cell_type": "markdown",
   "id": "536b2e1c-9c8b-4600-a38b-d2a34822dcec",
   "metadata": {},
   "source": [
    "## Charts"
   ]
  },
  {
   "cell_type": "code",
   "execution_count": null,
   "id": "57bf6474-109e-47cc-b5af-2e5086ae096f",
   "metadata": {},
   "outputs": [],
   "source": [
    "# chart with official counts\n",
    "chart_official = (\n",
    "    alt.Chart(df_official[['report_date', 'killed_cum']])\n",
    "    .mark_line(color='black', size=3)\n",
    "    .encode(\n",
    "        alt.X('report_date:T').title(None),\n",
    "        alt.Y('killed_cum:Q').title('Total casualties'),\n",
    "    )\n",
    "    .properties(\n",
    "        title='Official numbers'\n",
    "    )\n",
    ")\n",
    "\n",
    "chart_official"
   ]
  },
  {
   "cell_type": "code",
   "execution_count": null,
   "id": "e9ba107e-f540-406a-9513-c56b952fcbcb",
   "metadata": {},
   "outputs": [],
   "source": [
    "# chart with estimates as scatter plot\n",
    "chart_estimates = (\n",
    "    alt.Chart(df_estimates_weighted)\n",
    "    .mark_circle()\n",
    "    .encode(\n",
    "        alt.X('date:T'),\n",
    "        alt.Y('estimate:Q'),\n",
    "        alt.Size('estimate:Q').legend(None),\n",
    "        alt.Tooltip(['date', 'estimate', 'title', 'url']),\n",
    "        alt.Href('url:N'),\n",
    "    )\n",
    ")\n",
    "\n",
    "# label for scatter plot\n",
    "chart_label = (\n",
    "    alt.Chart(df_estimates_weighted)\n",
    "   .mark_text(dx=-10, dy=0, align='right', baseline='middle', fontWeight='bold')\n",
    "   .encode(\n",
    "        alt.X('date:T'),\n",
    "        alt.Y('estimate:Q'),\n",
    "        alt.Text('label:N'),\n",
    "    )\n",
    ")\n",
    "\n",
    "# trendline for scatter plot\n",
    "chart_trendline = (\n",
    "    alt.Chart(df_estimates_weighted)\n",
    "    .mark_line(color='red', strokeDash=[5, 5], size=4)\n",
    "    .transform_regression(\n",
    "        on='date',\n",
    "        regression='estimate',\n",
    "        method='log',\n",
    "        # order=3,\n",
    "    )\n",
    "    .encode(\n",
    "        alt.X('date:T').title(None),\n",
    "        alt.Y('estimate:Q').title('Total casualties').scale(domain=[0, 400000]),\n",
    "    )\n",
    ")\n",
    "\n",
    "# combine scatter plot and trendline\n",
    "chart_estimates_trend = (\n",
    "    alt.layer(chart_estimates, chart_trendline, chart_label)\n",
    "    .properties(\n",
    "        title='Estimates'\n",
    "    )\n",
    ")\n",
    "\n",
    "chart_estimates_trend"
   ]
  },
  {
   "cell_type": "code",
   "execution_count": null,
   "id": "e22c8ea8-250b-419c-864a-ba68475fe5d9",
   "metadata": {},
   "outputs": [],
   "source": [
    "# combine charts for official counts and estimates\n",
    "chart_combined = (\n",
    "    alt.layer(chart_official, chart_estimates_trend)\n",
    "    .properties(\n",
    "        title=[\n",
    "            'Official casuaty numbers',\n",
    "            'vs independent estimates'\n",
    "        ],\n",
    "        width=600,\n",
    "        height=400,\n",
    "    )\n",
    ")\n",
    "\n",
    "chart_combined"
   ]
  },
  {
   "cell_type": "code",
   "execution_count": null,
   "id": "56755145-336c-4890-a2d5-29a4527432aa",
   "metadata": {},
   "outputs": [],
   "source": [
    "# make legend chart\n",
    "chart_legend = (\n",
    "    alt.Chart({\n",
    "        'values': [\n",
    "            {'category': 'Official', 'color': 'black'},\n",
    "            {'category': 'Estimate (trend)', 'color': 'red'},\n",
    "            {'category': 'Individual estimates', 'color': '#82a1c2'}\n",
    "        ]\n",
    "    })\n",
    "    .mark_point(filled=True, size=100)\n",
    "    .encode(\n",
    "        alt.Y('category:N').axis(orient='right').title(None).sort(None),\n",
    "        alt.Color('color:N', scale=None)\n",
    "    )\n",
    ")\n",
    "\n",
    "# combine the main chart with the legend\n",
    "chart = alt.hconcat(chart_combined, chart_legend).resolve_scale(color='independent')\n",
    "\n",
    "chart.save('../charts/official_vs_estimates.png')\n",
    "chart.save('../charts/official_vs_estimates.html')\n",
    "\n",
    "chart"
   ]
  }
 ],
 "metadata": {
  "jupytext": {
   "formats": "ipynb,py:percent"
  },
  "kernelspec": {
   "display_name": "Python 3 (ipykernel)",
   "language": "python",
   "name": "python3"
  },
  "language_info": {
   "codemirror_mode": {
    "name": "ipython",
    "version": 3
   },
   "file_extension": ".py",
   "mimetype": "text/x-python",
   "name": "python",
   "nbconvert_exporter": "python",
   "pygments_lexer": "ipython3",
   "version": "3.11.9"
  }
 },
 "nbformat": 4,
 "nbformat_minor": 5
}
