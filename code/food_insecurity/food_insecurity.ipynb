{
 "cells": [
  {
   "cell_type": "markdown",
   "id": "6ccd6c27-e618-4b45-a26f-484aeb41416e",
   "metadata": {},
   "source": [
    "# Food insecurity"
   ]
  },
  {
   "cell_type": "code",
   "execution_count": null,
   "id": "ccfa9d4f-fecc-4ca1-8ffd-9c16d36be5e4",
   "metadata": {},
   "outputs": [],
   "source": [
    "import datetime\n",
    "import sys\n",
    "from pathlib import Path\n",
    "from typing import Dict, Optional, Union\n",
    "\n",
    "import altair as alt\n",
    "import pandas as pd"
   ]
  },
  {
   "cell_type": "code",
   "execution_count": null,
   "id": "935b6042",
   "metadata": {},
   "outputs": [],
   "source": [
    "sys.path.insert(0, '..')\n",
    "\n",
    "from config import CHARTS_DIR, DATA_DIR"
   ]
  },
  {
   "cell_type": "markdown",
   "id": "8c1ec47f-f927-4b0d-a697-801b30900a2b",
   "metadata": {},
   "source": [
    "## Data"
   ]
  },
  {
   "cell_type": "markdown",
   "id": "14202b7b",
   "metadata": {},
   "source": [
    "### IPC assessments"
   ]
  },
  {
   "cell_type": "code",
   "execution_count": null,
   "id": "c28934ae-ea97-4e87-aeee-15ed00f4903a",
   "metadata": {},
   "outputs": [],
   "source": [
    "# from https://www.ipcinfo.org/ipc-country-analysis/en/\n",
    "ipc_assessments = 'food_insecurity/ipc_assessments.csv'\n",
    "\n",
    "data_file_path = DATA_DIR / ipc_assessments"
   ]
  },
  {
   "cell_type": "markdown",
   "id": "346b790c",
   "metadata": {},
   "source": [
    "### IPC CDR reference table"
   ]
  },
  {
   "cell_type": "code",
   "execution_count": null,
   "id": "dfd7fd08",
   "metadata": {},
   "outputs": [],
   "source": [
    "# figure 25 from https://www.ipcinfo.org/fileadmin/user_upload/ipcinfo/manual/IPC_Technical_Manual_3_Final.pdf\n",
    "ipc_cdr = {\n",
    "    'Crisis': {\n",
    "        'lower_bound': 0.5 / 10000,\n",
    "        'upper_bound': 0.99 / 10000,\n",
    "    },\n",
    "    'Emergency': {\n",
    "        'lower_bound': 1 / 10000,\n",
    "        'upper_bound': 1.99 / 10000,\n",
    "    },\n",
    "    'Catastrophe': {\n",
    "        'lower_bound': 2 / 10000,\n",
    "        'upper_bound': None,\n",
    "    },\n",
    "}"
   ]
  },
  {
   "cell_type": "markdown",
   "id": "1302c481",
   "metadata": {},
   "source": [
    "### Gaza population"
   ]
  },
  {
   "cell_type": "code",
   "execution_count": null,
   "id": "53f60fd2-7fda-4534-a549-d1b637f45bac",
   "metadata": {},
   "outputs": [],
   "source": [
    "# average from IPC analyses\n",
    "gaza_pop_total = 2.2 * 10**6"
   ]
  },
  {
   "cell_type": "markdown",
   "id": "fd1070b8",
   "metadata": {},
   "source": [
    "### Data cleaning"
   ]
  },
  {
   "cell_type": "code",
   "execution_count": null,
   "id": "e4b074bf-b47e-4ab1-aee1-5e2008770910",
   "metadata": {},
   "outputs": [],
   "source": [
    "def load_and_preprocess_data(\n",
    "    data_file_path: Optional[Union[str, Path]] = None\n",
    ") -> pd.DataFrame:\n",
    "    \"\"\"\n",
    "    Load IPC assessments and clean the data.\n",
    "    \"\"\"\n",
    "\n",
    "    # load ipc_assessments.csv file in data dir\n",
    "    if data_file_path is None:\n",
    "        data_file_path = DATA_DIR / ipc_assessments\n",
    "\n",
    "    df_ipc = pd.read_csv(data_file_path)\n",
    "\n",
    "    # drop cols\n",
    "    df_ipc = df_ipc.drop(columns=['type', 'url'])\n",
    "\n",
    "    # convert date cols to datetime\n",
    "    df_ipc['start_date'] = pd.to_datetime(df_ipc['start_date'])\n",
    "    df_ipc['end_date'] = pd.to_datetime(df_ipc['end_date'])\n",
    "\n",
    "    # sort rows\n",
    "    df_ipc = df_ipc.sort_values('start_date')\n",
    "\n",
    "    return df_ipc"
   ]
  },
  {
   "cell_type": "code",
   "execution_count": null,
   "id": "b7224cb4-a729-4435-902e-99f1c4e2e0f9",
   "metadata": {},
   "outputs": [],
   "source": [
    "df_ipc = load_and_preprocess_data()\n",
    "\n",
    "df_ipc"
   ]
  },
  {
   "cell_type": "code",
   "execution_count": null,
   "id": "87b1cd52-c051-4ceb-9619-5cc60568bd65",
   "metadata": {},
   "outputs": [],
   "source": [
    "def create_linear_timeline(df_ipc: pd.DataFrame) -> pd.DataFrame:\n",
    "    \"\"\"\n",
    "    Determine linear timeline across assessments.\n",
    "    \"\"\"\n",
    "\n",
    "    linear_timeline_rows = []\n",
    "\n",
    "    for _, row in df_ipc.iterrows():\n",
    "        # check if linear_timeline_rows is empty or no overlap with linear_timeline_row\n",
    "        if (\n",
    "            not linear_timeline_rows\n",
    "            or row['start_date'] > linear_timeline_rows[-1]['end_date']\n",
    "        ):\n",
    "            linear_timeline_rows.append(row)\n",
    "\n",
    "        # if overlap, set end_date of last linear row to before start_date of new row\n",
    "        else:\n",
    "            linear_timeline_rows[-1]['end_date'] = min(\n",
    "                linear_timeline_rows[-1]['end_date'],\n",
    "                row['start_date'] - pd.Timedelta(days=1),\n",
    "            )\n",
    "\n",
    "            linear_timeline_rows.append(row)\n",
    "\n",
    "    df_linear = pd.DataFrame(linear_timeline_rows)\n",
    "\n",
    "    df_linear = df_linear.sort_values('start_date').reset_index(drop=True)\n",
    "\n",
    "    return df_linear"
   ]
  },
  {
   "cell_type": "code",
   "execution_count": null,
   "id": "6e4f1e18-94f5-4922-9952-046535f60bdb",
   "metadata": {},
   "outputs": [],
   "source": [
    "# determine linear timeline across assessments\n",
    "df_ipc = create_linear_timeline(df_ipc)\n",
    "\n",
    "df_ipc"
   ]
  },
  {
   "cell_type": "code",
   "execution_count": null,
   "id": "14b2ba3e-f0d4-43a6-9919-e8d91b33c87b",
   "metadata": {},
   "outputs": [],
   "source": [
    "def find_assessment_gaps(df_ipc: pd.DataFrame, interpolate: bool = True) -> pd.DataFrame:\n",
    "    \"\"\"\n",
    "    Find gaps in assessments and interpolate values based on surrounding assessments.\n",
    "    \"\"\"\n",
    "\n",
    "    gap_rows = {'start_date': [], 'end_date': []}\n",
    "\n",
    "    for i in range(1, len(df_ipc)):\n",
    "        # previous row end_date\n",
    "        previous_end_date = df_ipc.loc[i - 1, 'end_date']\n",
    "        # current row start_date\n",
    "        current_start_date = df_ipc.loc[i, 'start_date']\n",
    "\n",
    "        # if diff between previous end_date and current start_date > 1, create new row filling the gap interval\n",
    "        if (current_start_date - previous_end_date).days > 1:\n",
    "            gap_start_date = previous_end_date + pd.Timedelta(days=1)\n",
    "            gap_rows['start_date'].append(gap_start_date)\n",
    "\n",
    "            gap_end_date = current_start_date - pd.Timedelta(days=1)\n",
    "            gap_rows['end_date'].append(gap_end_date)\n",
    "\n",
    "    df_gaps = pd.DataFrame(gap_rows)\n",
    "    df_ipc = pd.concat([df_ipc, df_gaps], ignore_index=True)\n",
    "\n",
    "    df_ipc = df_ipc.sort_values('start_date').reset_index(drop=True)\n",
    "\n",
    "    # fill NA values with average of surrounding assessments\n",
    "    if interpolate is True:\n",
    "        df_ipc = df_ipc.interpolate(method='linear', limit_direction='both')\n",
    "\n",
    "    return df_ipc"
   ]
  },
  {
   "cell_type": "code",
   "execution_count": null,
   "id": "f19a52a8",
   "metadata": {},
   "outputs": [],
   "source": [
    "df_ipc = find_assessment_gaps(df_ipc, interpolate=True)\n",
    "\n",
    "df_ipc"
   ]
  },
  {
   "cell_type": "markdown",
   "id": "0799b42a-45f9-4328-aa50-ee2e6bec00ac",
   "metadata": {
    "lines_to_next_cell": 2
   },
   "source": [
    "## Assessments over time"
   ]
  },
  {
   "cell_type": "code",
   "execution_count": null,
   "id": "cfb1de36-8444-4d30-ad43-da8668995984",
   "metadata": {},
   "outputs": [],
   "source": [
    "def generate_assessments_chart(\n",
    "    df_ipc: pd.DataFrame,\n",
    "    title: Optional[str] = None,\n",
    "    save: bool = True,\n",
    "    filename: Optional[str] = 'chart.png',\n",
    ") -> alt.Chart:\n",
    "    \"\"\"\n",
    "    Visualise evolution in IPC assessments\n",
    "    \"\"\"\n",
    "\n",
    "    # convert to long format\n",
    "    df_melted = df_ipc.melt(\n",
    "        id_vars=['start_date', 'end_date'],\n",
    "        var_name='Phase',\n",
    "        value_name='Percentage',\n",
    "    ).melt(\n",
    "        id_vars=['Phase', 'Percentage'],\n",
    "        var_name='date_type',\n",
    "        value_name='date',\n",
    "    )\n",
    "\n",
    "    # generate chart\n",
    "    chart_assessments = (\n",
    "        alt.Chart(df_melted)\n",
    "        .mark_area()\n",
    "        .encode(\n",
    "            x=alt.X('date:T').title('Period'),\n",
    "            y=alt.Y('Percentage:Q').sort(None).stack('normalize'),\n",
    "            color=alt.Color('Phase:N').sort(None),\n",
    "        )\n",
    "        .properties(\n",
    "            title=title or '',\n",
    "            width=600,\n",
    "            height=400,\n",
    "        )\n",
    "    )\n",
    "\n",
    "    # save chart\n",
    "    if save is True:\n",
    "        chart_file_path = CHARTS_DIR / filename\n",
    "        chart_assessments.save(chart_file_path)\n",
    "\n",
    "    return chart_assessments"
   ]
  },
  {
   "cell_type": "code",
   "execution_count": null,
   "id": "bf4d7a2d-9bbc-4284-957a-d4983e38296f",
   "metadata": {},
   "outputs": [],
   "source": [
    "# generate assessments chart\n",
    "chart_assessments = generate_assessments_chart(\n",
    "    df_ipc,\n",
    "    title='Distribution of IPC phases over time',\n",
    "    filename='ipc_assessments.png',\n",
    ")\n",
    "\n",
    "chart_assessments"
   ]
  },
  {
   "cell_type": "markdown",
   "id": "e7a9e8ac-a0fe-422f-9476-1953684b8555",
   "metadata": {
    "lines_to_next_cell": 2
   },
   "source": [
    "## Deaths based on IPC CDR"
   ]
  },
  {
   "cell_type": "code",
   "execution_count": null,
   "id": "f8724ac1-a545-4688-93e1-d44ade9279e2",
   "metadata": {},
   "outputs": [],
   "source": [
    "def calculate_expected_deaths(row: pd.Series) -> Dict[str, int]:\n",
    "    \"\"\"\n",
    "    Calculate expected number of deaths based on IPC assessment and CDR, with lower and upper bounds.\n",
    "    \"\"\"\n",
    "\n",
    "    expected_deaths = {\n",
    "        'lower': 0,\n",
    "        'upper': 0,\n",
    "    }\n",
    "\n",
    "    # acute food insecurity levels for which mortality is calculated\n",
    "    levels = ['Emergency', 'Catastrophe']\n",
    "\n",
    "    for level in levels:\n",
    "        if pd.isna(row[level]):\n",
    "            continue\n",
    "\n",
    "        # affected pop size\n",
    "        sub_pop = row[level] * gaza_pop_total\n",
    "\n",
    "        # cdr\n",
    "        cdr_lower = ipc_cdr[level]['lower_bound']\n",
    "        cdr_upper = (\n",
    "            ipc_cdr[level]['upper_bound']\n",
    "            if ipc_cdr[level]['upper_bound'] is not None\n",
    "            else ipc_cdr[level]['lower_bound']\n",
    "        )\n",
    "\n",
    "        # duration\n",
    "        duration = (row['end_date'] - row['start_date']).days\n",
    "\n",
    "        # expected deaths for given level, cdr, duration\n",
    "        value_lower = int(sub_pop * cdr_lower * duration)\n",
    "        value_upper = int(sub_pop * cdr_upper * duration)\n",
    "\n",
    "        expected_deaths['lower'] += value_lower\n",
    "        expected_deaths['upper'] += value_upper\n",
    "\n",
    "    return expected_deaths"
   ]
  },
  {
   "cell_type": "code",
   "execution_count": null,
   "id": "12be556e-7065-4bb4-b203-c60061e759f0",
   "metadata": {},
   "outputs": [],
   "source": [
    "def calculate_expected_cumulative_deaths(df_ipc: pd.DataFrame) -> pd.DataFrame:\n",
    "    \"\"\"\n",
    "    Calculate expected deaths and cumulative totals.\n",
    "    \"\"\"\n",
    "\n",
    "    # calculate expected deaths\n",
    "    expected_deaths = df_ipc.apply(calculate_expected_deaths, axis=1)\n",
    "\n",
    "    # add cols with expected deaths\n",
    "    df_ipc = pd.concat(\n",
    "        [\n",
    "            df_ipc,\n",
    "            pd.json_normalize(expected_deaths).rename(\n",
    "                lambda x: f'expected_deaths_{x}', axis=1\n",
    "            ),\n",
    "        ],\n",
    "        axis=1,\n",
    "    )\n",
    "\n",
    "    # calculate cumulative totals\n",
    "    df_ipc['cumulative_lower'] = df_ipc['expected_deaths_lower'].cumsum()\n",
    "    df_ipc['cumulative_upper'] = df_ipc['expected_deaths_upper'].cumsum()\n",
    "\n",
    "    # save cleaned data\n",
    "    data_file_path = DATA_DIR / ipc_assessments\n",
    "\n",
    "    df_ipc.to_csv(str(data_file_path).replace('.csv', '_clean.csv'), index=False)\n",
    "\n",
    "    return df_ipc"
   ]
  },
  {
   "cell_type": "code",
   "execution_count": null,
   "id": "5ae06c3c-dd64-4cc2-bafe-3525005ce2cb",
   "metadata": {},
   "outputs": [],
   "source": [
    "df_ipc = calculate_expected_cumulative_deaths(df_ipc)\n",
    "\n",
    "df_ipc"
   ]
  },
  {
   "cell_type": "code",
   "execution_count": null,
   "id": "5613e18a-3916-4f21-936f-f232499bae19",
   "metadata": {},
   "outputs": [],
   "source": [
    "def generate_ipc_cdr_chart(\n",
    "    df_ipc: pd.DataFrame,\n",
    "    title: Optional[str] = None,\n",
    "    save: bool = True,\n",
    "    filename: Optional[str] = 'chart.png',\n",
    ") -> alt.Chart:\n",
    "    \"\"\"\n",
    "    Visualise deaths from IPC's phase assessments and CDR.\n",
    "    \"\"\"\n",
    "\n",
    "    # generate chart\n",
    "    chart_ipc_cdr = (\n",
    "        alt.Chart(df_ipc)\n",
    "        .mark_area(opacity=0.5)\n",
    "        .encode(\n",
    "            alt.X('end_date:T').title(None),\n",
    "            alt.Y('cumulative_lower:Q').title('Cumulative total'),\n",
    "            alt.Y2('cumulative_upper:Q'),\n",
    "        )\n",
    "        .properties(\n",
    "            title=title or '',\n",
    "            width=600,\n",
    "            height=400,\n",
    "        )\n",
    "    )\n",
    "\n",
    "    # save chart\n",
    "    if save is True:\n",
    "        chart_file_path = CHARTS_DIR / filename\n",
    "        chart_ipc_cdr.save(chart_file_path)\n",
    "\n",
    "    return chart_ipc_cdr"
   ]
  },
  {
   "cell_type": "code",
   "execution_count": null,
   "id": "751d7416",
   "metadata": {},
   "outputs": [],
   "source": [
    "# generate IPC CDR chart\n",
    "chart_ipc_cdr = generate_ipc_cdr_chart(\n",
    "    df_ipc,\n",
    "    title='Deaths expected based on IPC\\'s crude death rate (source: IPC)',\n",
    "    filename='ipc_cdr_deaths.png',\n",
    ")\n",
    "\n",
    "chart_ipc_cdr"
   ]
  },
  {
   "cell_type": "code",
   "execution_count": null,
   "id": "cd0becbf-8604-456d-b422-a34307700283",
   "metadata": {},
   "outputs": [],
   "source": [
    "def estimate_deaths_for_date(\n",
    "    df_ipc: pd.DataFrame, date: Union[str, datetime.datetime] = datetime.date.today()\n",
    ") -> Dict[str, int]:\n",
    "    \"\"\"\n",
    "    Estimate number of deaths based on IPC CDR for a specific date.\n",
    "    \"\"\"\n",
    "\n",
    "    estimates = {}\n",
    "\n",
    "    if date is None:\n",
    "        date = datetime.date.today()\n",
    "\n",
    "    date = pd.to_datetime(date)\n",
    "    estimates['date'] = date\n",
    "\n",
    "    for i in range(len(df_ipc)):\n",
    "        # find assessment that contains date\n",
    "        if df_ipc.loc[i, 'start_date'] <= date <= df_ipc.loc[i, 'end_date']:\n",
    "            # calculate lower and upper bounds of expected deaths\n",
    "            for bound in ['lower', 'upper']:\n",
    "                estimate_base = df_ipc.loc[i - 1, f'cumulative_{bound}']\n",
    "                estimate_range = (\n",
    "                    df_ipc.loc[i, f'cumulative_{bound}']\n",
    "                    - df_ipc.loc[i - 1, f'cumulative_{bound}']\n",
    "                )\n",
    "                period = (df_ipc.loc[i, 'end_date'] - df_ipc.loc[i - 1, 'end_date']).days\n",
    "                period_pro_rated = (date - df_ipc.loc[i - 1, 'end_date']).days\n",
    "\n",
    "                estimate = estimate_base + estimate_range / period * period_pro_rated\n",
    "                estimate = int(estimate)\n",
    "\n",
    "                estimates[bound] = estimate\n",
    "\n",
    "            return estimates\n",
    "\n",
    "    return None"
   ]
  },
  {
   "cell_type": "code",
   "execution_count": null,
   "id": "d5bc0810-965b-439f-922b-f744e1d1d7cf",
   "metadata": {},
   "outputs": [],
   "source": [
    "# determine lower and upper bounds\n",
    "food_insecurity_casualties = estimate_deaths_for_date(\n",
    "    df_ipc=df_ipc, date=datetime.date.today()\n",
    ")\n",
    "\n",
    "food_insecurity_casualties"
   ]
  },
  {
   "cell_type": "code",
   "execution_count": null,
   "id": "b18f9135",
   "metadata": {},
   "outputs": [],
   "source": [
    "def assess_food_insecurity(\n",
    "    data_file_path: str = None,\n",
    "    date: Union[str, datetime.datetime] = None,\n",
    "    save_charts: bool = True,\n",
    ") -> Dict[str, Union[Dict[str, int], alt.Chart]]:\n",
    "    \"\"\"\n",
    "    Calculate expected deaths for a specific date given IPC assessments.\n",
    "    \"\"\"\n",
    "\n",
    "    # load IPC assessments and clean the data.\n",
    "    df_ipc = load_and_preprocess_data(data_file_path)\n",
    "\n",
    "    # determine linear timeline across assessments.\n",
    "    df_ipc = create_linear_timeline(df_ipc)\n",
    "\n",
    "    # find gaps in assessments and interpolate values based on surrounding assessments.\n",
    "    df_ipc = find_assessment_gaps(df_ipc=df_ipc, interpolate=True)\n",
    "\n",
    "    # visualise evolution in IPC assessments\n",
    "    chart_assessments = generate_assessments_chart(\n",
    "        df_ipc,\n",
    "        title='Distribution of IPC phases over time',\n",
    "        save=save_charts,\n",
    "        filename='ipc_assessments.png',\n",
    "    )\n",
    "\n",
    "    # calculate expected deaths and cumulative totals\n",
    "    df_ipc = calculate_expected_cumulative_deaths(df_ipc)\n",
    "\n",
    "    # visualise deaths from IPC's phase assessments and CDR\n",
    "    charts_ipc_cdr = generate_ipc_cdr_chart(\n",
    "        df_ipc,\n",
    "        title='Deaths expected based on IPC\\'s crude death rate (source: IPC)',\n",
    "        filename='ipc_cdr_deaths.png',\n",
    "    )\n",
    "\n",
    "    # estimate number of deaths based on IPC CDR for a specific date\n",
    "    food_insecurity_casualties = estimate_deaths_for_date(df_ipc, date=date)\n",
    "\n",
    "    return {\n",
    "        'food_insecurity_casualties': food_insecurity_casualties,\n",
    "        'chart_assessments': chart_assessments,\n",
    "        'charts_ipc_cdr': charts_ipc_cdr,\n",
    "    }"
   ]
  }
 ],
 "metadata": {
  "jupytext": {
   "formats": "ipynb,py:percent"
  },
  "kernelspec": {
   "display_name": "Python 3 (ipykernel)",
   "language": "python",
   "name": "python3"
  },
  "language_info": {
   "codemirror_mode": {
    "name": "ipython",
    "version": 3
   },
   "file_extension": ".py",
   "mimetype": "text/x-python",
   "name": "python",
   "nbconvert_exporter": "python",
   "pygments_lexer": "ipython3",
   "version": "3.13.0"
  }
 },
 "nbformat": 4,
 "nbformat_minor": 5
}
